{
 "cells": [
  {
   "cell_type": "markdown",
   "metadata": {},
   "source": [
    "## Week 1 of Python tutorials - Vaibhav Beohar\n",
    "--> basics, lists and list comprehensions, map(), sorted() and lambda functions\n",
    "\n",
    "## Here is a list of numbers\n",
    "### You can add and change elements as well as extract elements individually or in slices\n",
    "\n",
    "Some very useful nested list comprehension explanation: https://stackoverflow.com/questions/17657720/python-list-comprehension-double-for\n",
    "\n",
    "Some good explanation here (List of dictionaries with comprehension in python): https://stackoverflow.com/questions/28924633/list-of-dictionaries-with-comprehension-in-python\n"
   ]
  },
  {
   "cell_type": "code",
   "execution_count": 2,
   "metadata": {
    "colab": {},
    "colab_type": "code",
    "id": "spMTebWpr0_g"
   },
   "outputs": [
    {
     "name": "stdout",
     "output_type": "stream",
     "text": [
      "[5, 2, 10, 12, 3, 7, 12, 20]\n",
      "[5, 2, 10, 12, 3, 7, 12]\n",
      "[10, 12, 3, 7, 12]\n",
      "[5, 2]\n",
      "[10, 12, 3, 7]\n"
     ]
    }
   ],
   "source": [
    "numbers = [4, 2, 10, 12, 3, 7, 12]\n",
    "numbers.append(20)\n",
    "numbers[0] = 5\n",
    "print(numbers)\n",
    "numbers.pop()\n",
    "print(numbers)\n",
    "\n",
    "print(numbers[2:])\n",
    "print(numbers[:2])\n",
    "print(numbers[2:-1])"
   ]
  },
  {
   "cell_type": "code",
   "execution_count": 43,
   "metadata": {},
   "outputs": [
    {
     "name": "stdout",
     "output_type": "stream",
     "text": [
      "alex\n",
      "{'prg': [1, 2, 3, 5, 'vaib']}\n",
      "{'prg': [1, 2, 3, 5, 'vaib'], 'set_example': {1, 2, 4, '2', 'a'}}\n",
      "+++++++++++++++++++\n",
      "\n",
      "\n",
      "[[1, 'joey', 'instructor'], [2, 'mary', 'manager'], {1, 2, 4, '2', 'a'}, {'prg': [1, 2, 3, 5, 'vaib'], 'set_example': {1, 2, 4, '2', 'a'}}]\n",
      "\n",
      "\n",
      "[1, 'joey', 'instructor']\n",
      "\n",
      "\n",
      "[2, 'mary', 'manager']\n",
      "\n",
      "\n",
      "{1, 2, 4, '2', 'a'}\n",
      "\n",
      "\n",
      "{1, 2, 4, '2', 'a'}\n",
      "\n",
      "\n",
      "[1, 2, 3, 5, 'vaib']\n"
     ]
    }
   ],
   "source": [
    "names = ['sri', 'alex', 'vaib']\n",
    "print(names[1])\n",
    "\n",
    "costs = [1,2,3,5,'vaib']\n",
    "\n",
    "skills = {'prg':costs}\n",
    "\n",
    "print(skills)\n",
    "\n",
    "set_example = {1,2,4,'a','2'}\n",
    "\n",
    "skills['set_example'] = set_example\n",
    "\n",
    "print(skills)\n",
    "\n",
    "empl = [ [1, 'joey', 'instructor'], [2, 'mary', 'manager'], set_example,  skills]\n",
    "\n",
    "print('+++++++++++++++++++')\n",
    "\n",
    "print('\\n')\n",
    "\n",
    "print(empl)\n",
    "\n",
    "print('\\n')\n",
    "\n",
    "print(empl[0])\n",
    "\n",
    "print('\\n')\n",
    "\n",
    "print(empl[1])\n",
    "\n",
    "print('\\n')\n",
    "\n",
    "print(empl[2])\n",
    "\n",
    "print('\\n')\n",
    "\n",
    "print(empl[3]['set_example'])\n",
    "\n",
    "print('\\n')\n",
    "\n",
    "print(empl[3]['prg'])\n"
   ]
  },
  {
   "cell_type": "markdown",
   "metadata": {},
   "source": [
    "## Sets can also be used instead and they automatically remove duplicate values"
   ]
  },
  {
   "cell_type": "code",
   "execution_count": 4,
   "metadata": {
    "colab": {},
    "colab_type": "code",
    "id": "EUgLKp2Kr0_k"
   },
   "outputs": [
    {
     "name": "stdout",
     "output_type": "stream",
     "text": [
      "{1, 2, 3, 4, 5, 6}\n",
      "{1, 4}\n"
     ]
    }
   ],
   "source": [
    "numbers = {3, 2, 1, 1, 4, 5, 6, 3}\n",
    "print(numbers)\n",
    "\n",
    "others = {1, 4, 7}\n",
    "print(numbers.intersection(others))\n",
    "# print(numbers.difference(others))\n",
    "# print(numbers.union(others))\n",
    "\n",
    "# numbers2 = set(numbers)\n",
    "# print(numbers2)"
   ]
  },
  {
   "cell_type": "markdown",
   "metadata": {},
   "source": [
    "## Dictionaries use a pair of keys and values to store data"
   ]
  },
  {
   "cell_type": "code",
   "execution_count": 5,
   "metadata": {
    "colab": {},
    "colab_type": "code",
    "id": "Lyc--3KPr0_o"
   },
   "outputs": [
    {
     "name": "stdout",
     "output_type": "stream",
     "text": [
      "Adam\n",
      "{'firstname': 'Adam', 'lastname': 'Jones', 'age': 50, 'gender': 'M'}\n",
      "M\n"
     ]
    }
   ],
   "source": [
    "record = {'firstname':'Adam', 'lastname':'Smith', 'age':50}\n",
    "print(record['firstname'])\n",
    "record['lastname'] = 'Jones'\n",
    "\n",
    "\n",
    "record['gender'] = 'M'\n",
    "\n",
    "print(record)\n",
    "print(record['gender'])\n",
    "\n",
    "# print(record.keys())\n",
    "# print(record.values())\n",
    "# print(record.items())\n",
    "# del record['gender']"
   ]
  },
  {
   "cell_type": "markdown",
   "metadata": {},
   "source": [
    "## List comprehensions can be used as a shortcut way of doing a loop on the elements of a collection and are often more efficient"
   ]
  },
  {
   "cell_type": "code",
   "execution_count": 6,
   "metadata": {},
   "outputs": [
    {
     "name": "stdout",
     "output_type": "stream",
     "text": [
      "[2, 4, 6, 8, 10]\n",
      "[2, 4, 6, 8, 10]\n",
      "['SRI', 'ALEX', 'VAIB']\n"
     ]
    }
   ],
   "source": [
    "y = []\n",
    "x = [1,2,3,4,5]\n",
    "for e in x:\n",
    "    y.append(e*2)\n",
    "print(y)\n",
    "\n",
    "y = [e*2 for e in x]\n",
    "\n",
    "print(y)\n",
    "\n",
    "newnames = [n.upper() for n in names]\n",
    "\n",
    "print(newnames)"
   ]
  },
  {
   "cell_type": "code",
   "execution_count": 7,
   "metadata": {
    "colab": {},
    "colab_type": "code",
    "id": "RKWnuO0QOUBj"
   },
   "outputs": [
    {
     "name": "stdout",
     "output_type": "stream",
     "text": [
      "[2, 4, 6, 8]\n",
      "[]\n",
      "[2, 4, 4]\n"
     ]
    }
   ],
   "source": [
    "print([x * 2 for x in [1, 2, 3, 4]])\n",
    "\n",
    "b = [x for x in empl if type(x)=='\\<class \\'str\\'\\>']\n",
    "\n",
    "print(b)\n",
    "\n",
    "print([x for x in [1, 2, 3, 4, 4] if x % 2 == 0])\n",
    "\n",
    "\n",
    "\n",
    "\n"
   ]
  },
  {
   "cell_type": "markdown",
   "metadata": {
    "colab_type": "text",
    "id": "vr6isEXSr0_r"
   },
   "source": [
    "## LAB: ## \n",
    "### Using the numbers list we created above, multiply each number by 5.\n",
    "### Next, only multiply the numbers less than 5 by 10.\n",
    "<br>\n",
    "<details><summary>Click for <b>hint</b></summary>\n",
    "<p>\n",
    "Try writing the for part first and use a simple name for the range variable that takes on each value one at a time\n",
    "<br>\n",
    "Put the calculation using the range variable in front of the for\n",
    "<br>\n",
    "If clause follows the for clause and can be used to make a conditional like a WHERE clause does in SQL\n",
    "<br>\n",
    "<br>\n",
    "</p>\n",
    "</details>\n",
    "\n",
    "<details><summary>Click for <b>code</b></summary>\n",
    "<p>\n",
    "\n",
    "```python\n",
    "print([n * 5 for n in numbers])\n",
    "print([n * 5 for n in numbers if n < 10])\n",
    "```\n",
    "</p>\n",
    "</details>"
   ]
  },
  {
   "cell_type": "code",
   "execution_count": 8,
   "metadata": {
    "colab": {},
    "colab_type": "code",
    "id": "RCQg_s7TOUBn"
   },
   "outputs": [
    {
     "name": "stdout",
     "output_type": "stream",
     "text": [
      "{35, 10, 15, 50, 20, 60}\n",
      "[40, 20, 30]\n"
     ]
    }
   ],
   "source": [
    "numbers = [4, 2, 10, 12, 3, 7, 12]\n",
    "\n",
    "\n",
    "print({x*5 for x in numbers})\n",
    "print([x*10 for x in numbers if x < 5])\n",
    "\n",
    "#select 5 * col from numbers as n\n",
    "#select 5 * col from numbers as n where n <5 "
   ]
  },
  {
   "cell_type": "markdown",
   "metadata": {},
   "source": [
    "## Functions can be written with the def statement"
   ]
  },
  {
   "cell_type": "code",
   "execution_count": 9,
   "metadata": {
    "colab": {},
    "colab_type": "code",
    "id": "QMsvcGztr0_s"
   },
   "outputs": [
    {
     "name": "stdout",
     "output_type": "stream",
     "text": [
      "20\n"
     ]
    }
   ],
   "source": [
    "def double(x):\n",
    "    return x * 2\n",
    "\n",
    "print(double(10))\n"
   ]
  },
  {
   "cell_type": "markdown",
   "metadata": {},
   "source": [
    "## If a function can be represented in a single line to take parameters and return a value, a lambda is another way of expressing the function\n",
    "### They have the advantage that you can embed them directly as a parameter to another function"
   ]
  },
  {
   "cell_type": "code",
   "execution_count": 10,
   "metadata": {
    "colab": {},
    "colab_type": "code",
    "id": "G6P244BsOUBu"
   },
   "outputs": [
    {
     "name": "stdout",
     "output_type": "stream",
     "text": [
      "30\n"
     ]
    }
   ],
   "source": [
    "triple = lambda x : x * 3\n",
    "print(triple(10))\n"
   ]
  },
  {
   "cell_type": "markdown",
   "metadata": {},
   "source": [
    "## map is a function that takes another function as the first parameter and a collection as the second. It applies the passed in function to each element of the collection returning a generator function.\n",
    "### lambdas are often used with functions like map when you need to make an on the fly function"
   ]
  },
  {
   "cell_type": "code",
   "execution_count": 11,
   "metadata": {
    "colab": {},
    "colab_type": "code",
    "id": "8z3Etj_kOUBx"
   },
   "outputs": [
    {
     "name": "stdout",
     "output_type": "stream",
     "text": [
      "<generator object <genexpr> at 0x7fa6c0424450>\n",
      "[20, 4, 60, 8, 10]\n",
      "<map object at 0x7fa6c0429850>\n",
      "[20, 4, 60, 8, 10]\n",
      "[20, 4, 60, 8, 10]\n",
      "[50, 10, 150, 20, 25]\n",
      "[50, 10, 150, 20, 25]\n"
     ]
    }
   ],
   "source": [
    "data = [10, 2, 30, 4, 5]\n",
    "data1 = (double(x) for x in data)  ## this creates a generator object as shown below:\n",
    "print(data1)\n",
    "\n",
    "#but generator obj can be converted to list by below:\n",
    "print(list(data1))\n",
    "print(map(double, data))\n",
    "print(list(map(double, data)))\n",
    "\n",
    "\n",
    "#below line does same as the above list(map()) line\n",
    "print([double(x) for x in data])\n",
    "\n",
    "print(list(map(lambda x : x * 5, data)))\n",
    "print([x * 5 for x in data])"
   ]
  },
  {
   "cell_type": "markdown",
   "metadata": {},
   "source": [
    "\n",
    "## filter is another function similar to map, that will take a function that returns a bool as the first parameter and apply it to the elements of the collection returning only those elements for which the function returns true"
   ]
  },
  {
   "cell_type": "code",
   "execution_count": 13,
   "metadata": {
    "colab": {},
    "colab_type": "code",
    "id": "s0GQ83l9OUB0"
   },
   "outputs": [
    {
     "name": "stdout",
     "output_type": "stream",
     "text": [
      "False\n",
      "[2, 4, 5]\n",
      "<filter object at 0x7fa6c0429a10>\n",
      "[2, 4, 5]\n",
      "[2, 4, 5]\n"
     ]
    }
   ],
   "source": [
    "def small(x):\n",
    "    return x < 10\n",
    "print(small(11))\n",
    "\n",
    "print(list(filter(small, data)))\n",
    "\n",
    "print(filter(lambda x : x < 10, data))\n",
    "print(list(filter(lambda x : x < 10, data)))\n",
    "print([x for x in data if x < 10])\n"
   ]
  },
  {
   "cell_type": "markdown",
   "metadata": {},
   "source": [
    "## sorted is another example of a function that takes a function or lambda which can be used to provide a custom sort function on a collection"
   ]
  },
  {
   "cell_type": "code",
   "execution_count": 17,
   "metadata": {
    "colab": {},
    "colab_type": "code",
    "id": "KAB5F3YPOUB3"
   },
   "outputs": [
    {
     "name": "stdout",
     "output_type": "stream",
     "text": [
      "[2, 4, 5, 10, 30]\n",
      "[30, 10, 5, 4, 2]\n",
      "[2, 4, 10, 30, 5]\n",
      "[(0, 10), (0, 2), (0, 30), (0, 4), (1, 5)]\n"
     ]
    }
   ],
   "source": [
    "print(sorted(data))\n",
    "print(sorted(data, reverse=True))\n",
    "print(sorted(data, key=lambda x : (x % 2, x)))\n",
    "\n",
    "data = [10, 2, 30, 4, 5]\n",
    "\n",
    "print(list(map(lambda x : (x % 2, x), data)))"
   ]
  },
  {
   "cell_type": "markdown",
   "metadata": {
    "colab_type": "text",
    "id": "znQNoz2iOUB7"
   },
   "source": [
    "## LAB: ## \n",
    "### Given the list of names below, sort them on the length of the name so the shortest names are first.\n",
    "### Try to sort them alphabetically regardless of case.\n",
    "<br>\n",
    "<details><summary>Click for <b>hint</b></summary>\n",
    "<p>\n",
    "Create a lambda function using the built in len function\n",
    "<br>\n",
    "Create a lambda function using a method built into strings that can ignore the case\n",
    "<br>\n",
    "<br>\n",
    "</p>\n",
    "</details>\n",
    "\n",
    "<details><summary>Click for <b>code</b></summary>\n",
    "<p>\n",
    "\n",
    "```python\n",
    "print(sorted(names))\n",
    "print(sorted(names, key = lambda x : len(x)))\n",
    "print(sorted(names, key = lambda x : x.upper()))\n",
    "```\n",
    "</p>\n",
    "</details>"
   ]
  },
  {
   "cell_type": "code",
   "execution_count": 18,
   "metadata": {
    "colab": {},
    "colab_type": "code",
    "id": "Fx0Axc_yOUB9"
   },
   "outputs": [
    {
     "name": "stdout",
     "output_type": "stream",
     "text": [
      "['bob', 'betty', 'Linda', 'Adam']\n",
      "['bob', 'Adam', 'Linda', 'betty']\n"
     ]
    }
   ],
   "source": [
    "names = ['bob', 'Linda', 'Adam', 'betty']\n",
    "print(sorted(names, reverse=True))\n",
    "\n",
    "\n",
    "print(sorted(names, key = lambda x : len(x)))\n"
   ]
  },
  {
   "cell_type": "markdown",
   "metadata": {
    "colab_type": "text",
    "id": "9ZxXTftVOUCA"
   },
   "source": [
    "## HOMEWORK: ## \n",
    "### Given the list of names below, print out all the names in alphabetical order.\n",
    "### Print just the male students showing their names and ages as a tuple, in alphabetical order.\n",
    "<br>\n",
    "<details><summary>Click for <b>hint</b></summary>\n",
    "<p>\n",
    "The for clause will return each element of the list, each element is a single dictionary object\n",
    "<br>\n",
    "Use the keys to fetch the dictionary values you want for each element\n",
    "<br>\n",
    "To return a tuple, wrap multiple values in parentheses \n",
    "<br>\n",
    "Use an if clause and the value of a key to return only the male students\n",
    "<br>\n",
    "<br>\n",
    "</p>\n",
    "</details>\n"
   ]
  },
  {
   "cell_type": "code",
   "execution_count": 143,
   "metadata": {
    "colab": {},
    "colab_type": "code",
    "id": "xxkKJH5JOUCB"
   },
   "outputs": [
    {
     "name": "stdout",
     "output_type": "stream",
     "text": [
      "3\n",
      "\n",
      "\n",
      "[{'id': 1, 'name': 'Zack', 'gender': 'M', 'age': 15}, {'id': 4, 'name': 'Wendy', 'gender': 'F', 'age': 15}, {'id': 2, 'name': 'Yamila', 'gender': 'F', 'age': 14}, {'id': 3, 'name': 'Xavier', 'gender': 'M', 'age': 14}, {'id': 5, 'name': 'Victor', 'gender': 'M', 'age': 15}]\n",
      "\n",
      "\n",
      "['Zack', 'Wendy', 'Yamila', 'Xavier', 'Victor']\n"
     ]
    }
   ],
   "source": [
    "students = [\n",
    "    {'id':1, 'name':'Zack', 'gender':'M', 'age':15},\n",
    "    {'id':2, 'name':'Yamila', 'gender':'F', 'age':14},\n",
    "    {'id':3, 'name':'Xavier', 'gender':'M', 'age': 14},\n",
    "    {'id':4, 'name':'Wendy', 'gender':'F', 'age':15},\n",
    "    {'id':5, 'name':'Victor', 'gender':'M', 'age':15}\n",
    "]\n",
    "\n",
    "# Extracts 2nd elements from list - which is a dictionary - and extracts named element from that dictionary\n",
    "print(students[2]['id'])\n",
    "\n",
    "print('\\n')\n",
    "\n",
    "#Intermediate step. This takes the list in sorted(), then for each of the elements, which is pushed in \"key\", it \n",
    "#loops over those elements and extracts the 'name' element and applies len() to sort the elements\n",
    "print(sorted(students, key=lambda x : len(x['name'])))\n",
    "\n",
    "print('\\n')\n",
    "\n",
    "#finall, this loops over list creates list of names by extracting the 'name' element from the dictionary.\n",
    "#Then the list of those names is passed in key and the lambda function applies len() to sort them \n",
    "print(sorted([a['name'] for a in students], key=lambda x:len(x)))\n"
   ]
  },
  {
   "cell_type": "code",
   "execution_count": 144,
   "metadata": {},
   "outputs": [
    {
     "name": "stdout",
     "output_type": "stream",
     "text": [
      "[('Zack', 15), ('Xavier', 14), ('Victor', 15)]\n"
     ]
    }
   ],
   "source": [
    "#This first creates a list of lists called d, for the male criteria\n",
    "#That list of lists is passed to the sorted function which sorts then and returns the list of lists to the map()\n",
    "#The map then applies second lambda function on the output of sorted() to create a tuple\n",
    "\n",
    "d = ([a['name'], a['age']] for a in students if a['gender']=='M')\n",
    "print(list(map(lambda x : (x[0], x[1]), sorted(d, key=lambda x: (len(x[0]), x[1])))))\n"
   ]
  },
  {
   "cell_type": "code",
   "execution_count": null,
   "metadata": {},
   "outputs": [],
   "source": [
    "\n",
    "# print(list(map(lambda x : (x % 2, x), data)))\n",
    "     \n",
    "     \n",
    "# print(c)\n",
    "\n",
    "# ld=[{'a':10,'b':20},{'p':10,'u':100}]\n",
    "\n",
    "# print([kv for d in ld for kv in d.items()])"
   ]
  }
 ],
 "metadata": {
  "anaconda-cloud": {},
  "colab": {
   "name": "02-01-NumPy-Introduction.ipynb",
   "provenance": []
  },
  "kernelspec": {
   "display_name": "Python 3",
   "language": "python",
   "name": "python3"
  },
  "language_info": {
   "codemirror_mode": {
    "name": "ipython",
    "version": 3
   },
   "file_extension": ".py",
   "mimetype": "text/x-python",
   "name": "python",
   "nbconvert_exporter": "python",
   "pygments_lexer": "ipython3",
   "version": "3.7.6"
  }
 },
 "nbformat": 4,
 "nbformat_minor": 1
}
